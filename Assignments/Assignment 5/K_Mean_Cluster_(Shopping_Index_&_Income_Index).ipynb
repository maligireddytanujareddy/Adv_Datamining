{
  "nbformat": 4,
  "nbformat_minor": 0,
  "metadata": {
    "colab": {
      "provenance": [],
      "collapsed_sections": [],
      "toc_visible": true
    },
    "kernelspec": {
      "name": "python3",
      "display_name": "Python 3"
    },
    "language_info": {
      "name": "python"
    }
  },
  "cells": [
    {
      "cell_type": "markdown",
      "source": [
        "##Adding and Ploting the Dataset"
      ],
      "metadata": {
        "id": "5rNf-RnricqJ"
      }
    },
    {
      "cell_type": "code",
      "execution_count": 68,
      "metadata": {
        "id": "AJkQXBH4h4BY"
      },
      "outputs": [],
      "source": [
        "import pandas as pds\n",
        "import numpy as np\n",
        "from sklearn.cluster import KMeans\n",
        "from sklearn import metrics"
      ]
    },
    {
      "cell_type": "code",
      "source": [
        "data = np.array([\n",
        "    [3,5],\n",
        "    [3,4],\n",
        "    [5,6],\n",
        "    [2,6],\n",
        "    [4,5],\n",
        "    [6,8],\n",
        "    [6,2],\n",
        "    [6,3],\n",
        "    [5,6],\n",
        "    [6,7],\n",
        "    [7,2],\n",
        "    [8,5],\n",
        "    [9,1],\n",
        "    [8,2],\n",
        "    [9,6],\n",
        "    [9,1],\n",
        "    [8,3]\n",
        "])"
      ],
      "metadata": {
        "id": "FdD4FelUov8A"
      },
      "execution_count": 69,
      "outputs": []
    },
    {
      "cell_type": "code",
      "source": [
        "import matplotlib.pyplot as plot\n",
        "\n",
        "plot.plot()\n",
        "plot.title('Data Points')\n",
        "plot.xlabel('Spending Index')\n",
        "plot.ylabel('Income Index')\n",
        "plot.scatter(data[:,0],data[:,1])"
      ],
      "metadata": {
        "id": "BKzsu5Tbh5Y2",
        "colab": {
          "base_uri": "https://localhost:8080/",
          "height": 312
        },
        "outputId": "ebd78612-759e-4811-f2dd-cf4bbbe7a9f8"
      },
      "execution_count": 70,
      "outputs": [
        {
          "output_type": "execute_result",
          "data": {
            "text/plain": [
              "<matplotlib.collections.PathCollection at 0x7fad88b848d0>"
            ]
          },
          "metadata": {},
          "execution_count": 70
        },
        {
          "output_type": "display_data",
          "data": {
            "text/plain": [
              "<Figure size 432x288 with 1 Axes>"
            ],
            "image/png": "[encoded data removed]"
          },
          "metadata": {
            "needs_background": "light"
          }
        }
      ]
    },
    {
      "cell_type": "markdown",
      "source": [
        "##K-Means-2 Clusters"
      ],
      "metadata": {
        "id": "Bvj8Cr5LihZy"
      }
    },
    {
      "cell_type": "code",
      "source": [
        "k = 2\n",
        "dataframe = data\n",
        "kmeans_model = KMeans(n_clusters=k, random_state=0)\n",
        "labels = kmeans_model.fit_predict(dataframe)\n",
        "print(labels)"
      ],
      "metadata": {
        "id": "oamfiQQyh5WW",
        "colab": {
          "base_uri": "https://localhost:8080/"
        },
        "outputId": "30133111-b4ef-42a5-e8d5-210bf3022d49"
      },
      "execution_count": 71,
      "outputs": [
        {
          "output_type": "stream",
          "name": "stdout",
          "text": [
            "[0 0 0 0 0 0 1 1 0 0 1 1 1 1 1 1 1]\n"
          ]
        }
      ]
    },
    {
      "cell_type": "code",
      "source": [
        "dataframe.shape"
      ],
      "metadata": {
        "id": "Y-XmsThch5T2",
        "colab": {
          "base_uri": "https://localhost:8080/"
        },
        "outputId": "4e81a13d-7412-4d56-e69a-9b3bd22ab5a3"
      },
      "execution_count": 72,
      "outputs": [
        {
          "output_type": "execute_result",
          "data": {
            "text/plain": [
              "(17, 2)"
            ]
          },
          "metadata": {},
          "execution_count": 72
        }
      ]
    },
    {
      "cell_type": "code",
      "source": [
        "def resultplot(plt,unique_labels,dataframe,labels):\n",
        "  \n",
        "  plot.title('Shoppers cluster')\n",
        "  plot.xlabel('Spending Index')\n",
        "  plot.ylabel('Income Index')\n",
        "\n",
        "  for i in unique_labels:\n",
        "      plot.scatter(dataframe[labels == i][:,0] , dataframe[labels == i][:,1] , label = i)\n"
      ],
      "metadata": {
        "id": "cKft0VVxPnfG"
      },
      "execution_count": 73,
      "outputs": []
    },
    {
      "cell_type": "code",
      "source": [
        "plot.plot()\n",
        "\n",
        "unique_labels = np.unique(labels)\n",
        "\n",
        "resultplot(plot,unique_labels,dataframe,labels)\n",
        "\n",
        "plot.legend()\n",
        "plot.show()"
      ],
      "metadata": {
        "id": "QBBJO6ach5RN",
        "colab": {
          "base_uri": "https://localhost:8080/",
          "height": 295
        },
        "outputId": "a7363668-ca9c-4a8a-d5ef-b6f199e9e771"
      },
      "execution_count": 74,
      "outputs": [
        {
          "output_type": "display_data",
          "data": {
            "text/plain": [
              "<Figure size 432x288 with 1 Axes>"
            ],
            "image/png": "[encoded data removed]"
          },
          "metadata": {
            "needs_background": "light"
          }
        }
      ]
    },
    {
      "cell_type": "code",
      "source": [
        "#Getting the Centroids\n",
        "from turtle import back\n",
        "\n",
        "\n",
        "centroid = kmeans_model.cluster_centers_\n",
        "unique_labels = np.unique(labels)\n",
        " \n",
        "resultplot(plot,unique_labels,dataframe,labels)\n",
        "    \n",
        "plot.scatter(centroid[:,0] , centroid[:,1] , s = 80, color = 'yellow')\n",
        "\n",
        "plot.legend()\n",
        "plot.show()"
      ],
      "metadata": {
        "id": "Jz_BtNlOh5Oj",
        "colab": {
          "base_uri": "https://localhost:8080/",
          "height": 295
        },
        "outputId": "5903ccd3-b368-4948-aa8a-2af4377d8b5b"
      },
      "execution_count": 75,
      "outputs": [
        {
          "output_type": "display_data",
          "data": {
            "text/plain": [
              "<Figure size 432x288 with 1 Axes>"
            ],
            "image/png": "[encoded data removed]"
          },
          "metadata": {
            "needs_background": "light"
          }
        }
      ]
    },
    {
      "cell_type": "markdown",
      "source": [
        "##K-Means-3 Clusters"
      ],
      "metadata": {
        "id": "fbJ6cs_iilqx"
      }
    },
    {
      "cell_type": "code",
      "source": [
        "k = 3\n",
        "dataframe = data\n",
        "kmeans_model = KMeans(n_clusters=k, random_state=0)\n",
        "labels = kmeans_model.fit_predict(dataframe)\n",
        "print(labels)"
      ],
      "metadata": {
        "id": "_RuaHQXOh5L-",
        "colab": {
          "base_uri": "https://localhost:8080/"
        },
        "outputId": "65aa05aa-faa1-4c14-a821-0d6a856b3df9"
      },
      "execution_count": 76,
      "outputs": [
        {
          "output_type": "stream",
          "name": "stdout",
          "text": [
            "[0 0 0 0 0 1 2 2 0 1 2 1 2 2 1 2 2]\n"
          ]
        }
      ]
    },
    {
      "cell_type": "code",
      "source": [
        "plot.plot()\n",
        "\n",
        "unique_labels = np.unique(labels)\n",
        "\n",
        "resultplot(plot,unique_labels,dataframe,labels)\n",
        "plot.legend()\n",
        "plot.show()"
      ],
      "metadata": {
        "id": "ODFzUjIPh5Jd",
        "colab": {
          "base_uri": "https://localhost:8080/",
          "height": 295
        },
        "outputId": "98e35d90-0d48-4d69-93b9-ad61a771dd8a"
      },
      "execution_count": 77,
      "outputs": [
        {
          "output_type": "display_data",
          "data": {
            "text/plain": [
              "<Figure size 432x288 with 1 Axes>"
            ],
            "image/png": "[encoded data removed]"
          },
          "metadata": {
            "needs_background": "light"
          }
        }
      ]
    },
    {
      "cell_type": "code",
      "source": [
        "#Getting the Centroids\n",
        "from turtle import back\n",
        "\n",
        "centroid = kmeans_model.cluster_centers_\n",
        "unique_labels = np.unique(labels)\n",
        " \n",
        "resultplot(plot,unique_labels,dataframe,labels)\n",
        "    \n",
        "plot.scatter(centroid[:,0] , centroid[:,1] , s = 80, color = 'yellow')\n",
        "\n",
        "plot.legend()\n",
        "plot.show()"
      ],
      "metadata": {
        "id": "BJDyuD16h5G1",
        "colab": {
          "base_uri": "https://localhost:8080/",
          "height": 295
        },
        "outputId": "a4fd4603-9968-4c9b-ea84-016dac2e910b"
      },
      "execution_count": 78,
      "outputs": [
        {
          "output_type": "display_data",
          "data": {
            "text/plain": [
              "<Figure size 432x288 with 1 Axes>"
            ],
            "image/png": "[encoded data removed]"
          },
          "metadata": {
            "needs_background": "light"
          }
        }
      ]
    },
    {
      "cell_type": "markdown",
      "source": [
        "##K-Means-4 Clusters"
      ],
      "metadata": {
        "id": "qXVVf639inoU"
      }
    },
    {
      "cell_type": "code",
      "source": [
        "k = 4\n",
        "dataframe = data\n",
        "kmeans_model = KMeans(n_clusters=k, random_state=0)\n",
        "labels = kmeans_model.fit_predict(dataframe)\n",
        "print(labels)"
      ],
      "metadata": {
        "id": "1xY8FFURh5EO",
        "colab": {
          "base_uri": "https://localhost:8080/"
        },
        "outputId": "79df53c5-1a19-417e-8398-498ab0c1d8f2"
      },
      "execution_count": 79,
      "outputs": [
        {
          "output_type": "stream",
          "name": "stdout",
          "text": [
            "[0 0 2 0 0 2 1 1 2 2 1 3 1 1 3 1 1]\n"
          ]
        }
      ]
    },
    {
      "cell_type": "code",
      "source": [
        "plot.plot()\n",
        "\n",
        "unique_labels = np.unique(labels)\n",
        "\n",
        "resultplot(plot,unique_labels,dataframe,labels)\n",
        "\n",
        "plot.legend()\n",
        "plot.show()"
      ],
      "metadata": {
        "id": "5nbHC2FSh5Bw",
        "colab": {
          "base_uri": "https://localhost:8080/",
          "height": 295
        },
        "outputId": "1a0134b4-fbb2-48d8-c851-79758347a989"
      },
      "execution_count": 80,
      "outputs": [
        {
          "output_type": "display_data",
          "data": {
            "text/plain": [
              "<Figure size 432x288 with 1 Axes>"
            ],
            "image/png": "[encoded data removed]"
          },
          "metadata": {
            "needs_background": "light"
          }
        }
      ]
    },
    {
      "cell_type": "code",
      "source": [
        "#Getting the Centroids\n",
        "from turtle import back\n",
        "\n",
        "centroid = kmeans_model.cluster_centers_\n",
        "unique_labels = np.unique(labels)\n",
        " \n",
        "resultplot(plot,unique_labels,dataframe,labels)\n",
        "    \n",
        "plot.scatter(centroid[:,0] , centroid[:,1] , s = 80, color = 'yellow')\n",
        "\n",
        "plot.legend()\n",
        "plot.show()"
      ],
      "metadata": {
        "id": "ltIA960XiVdP",
        "colab": {
          "base_uri": "https://localhost:8080/",
          "height": 295
        },
        "outputId": "2e162d10-a411-4318-f89b-0a81ec6eee9d"
      },
      "execution_count": 81,
      "outputs": [
        {
          "output_type": "display_data",
          "data": {
            "text/plain": [
              "<Figure size 432x288 with 1 Axes>"
            ],
            "image/png": "[encoded data removed]"
          },
          "metadata": {
            "needs_background": "light"
          }
        }
      ]
    }
  ]
}